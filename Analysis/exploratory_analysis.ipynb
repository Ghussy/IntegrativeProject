{
  "cells": [
    {
      "cell_type": "markdown",
      "metadata": {},
      "source": [
        "# Exploratory Analysis\n",
        "\n",
        "Create 2–3 plots and compute summary statistics.\n"
      ]
    },
    {
      "cell_type": "code",
      "execution_count": null,
      "metadata": {},
      "outputs": [],
      "source": [
        "import pandas as pd\n",
        "import seaborn as sns\n",
        "import matplotlib.pyplot as plt\n",
        "from pathlib import Path\n",
        "\n",
        "DF = pd.read_csv('Data/cleaned_data.csv') if Path('Data/cleaned_data.csv').exists() else pd.read_csv('Data/student_data.csv')\n",
        "DF.describe(include='all')\n"
      ]
    },
    {
      "cell_type": "code",
      "execution_count": null,
      "metadata": {},
      "outputs": [],
      "source": [
        "# Histogram: GPA\n",
        "sns.histplot(DF['GPA'], kde=True)\n",
        "plt.title('GPA Distribution')\n",
        "plt.tight_layout()\n",
        "plt.show()\n"
      ]
    },
    {
      "cell_type": "code",
      "execution_count": null,
      "metadata": {},
      "outputs": [],
      "source": [
        "# Scatter: Study Time vs GPA\n",
        "sns.scatterplot(data=DF, x='StudyTimeWeekly', y='GPA', hue=DF['Tutoring'] if 'Tutoring' in DF.columns else None)\n",
        "plt.title('Study Time vs GPA')\n",
        "plt.tight_layout()\n",
        "plt.show()\n"
      ]
    },
    {
      "cell_type": "code",
      "execution_count": null,
      "metadata": {},
      "outputs": [],
      "source": [
        "# Bar: Extracurricular vs GPA\n",
        "if 'Extracurricular' in DF.columns:\n",
        "    sns.barplot(x='Extracurricular', y='GPA', data=DF)\n",
        "    plt.title('Extracurricular Participation vs GPA')\n",
        "    plt.tight_layout()\n",
        "    plt.show()\n"
      ]
    }
  ],
  "metadata": {
    "language_info": {
      "name": "python"
    }
  },
  "nbformat": 4,
  "nbformat_minor": 2
}
