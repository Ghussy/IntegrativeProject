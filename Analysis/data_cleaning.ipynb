{
  "cells": [
    {
      "cell_type": "markdown",
      "metadata": {},
      "source": [
        "# Data Cleaning & Exploration\n",
        "\n",
        "Objectives:\n",
        "- Inspect schema and missingness\n",
        "- Handle nulls/outliers\n",
        "- Save cleaned dataset to `Data/cleaned_data.csv`\n"
      ]
    },
    {
      "cell_type": "code",
      "execution_count": null,
      "metadata": {},
      "outputs": [],
      "source": [
        "import pandas as pd\n",
        "import numpy as np\n",
        "import matplotlib.pyplot as plt\n",
        "import seaborn as sns\n",
        "\n",
        "pd.set_option('display.max_columns', None)\n",
        "DATA_PATH = 'Data/student_data.csv'\n",
        "DF = pd.read_csv(DATA_PATH)\n",
        "DF.head()\n"
      ]
    },
    {
      "cell_type": "code",
      "execution_count": null,
      "metadata": {},
      "outputs": [],
      "source": [
        "# Basic info and missingness\n",
        "DF.info()\n",
        "DF.isna().sum().sort_values(ascending=False)\n"
      ]
    },
    {
      "cell_type": "code",
      "execution_count": null,
      "metadata": {},
      "outputs": [],
      "source": [
        "# TODO: implement cleaning steps (examples):\n",
        "# - type corrections\n",
        "# - outlier handling\n",
        "# - encode categoricals if needed\n",
        "cleaned = DF.copy()\n",
        "\n",
        "# Save cleaned dataset\n",
        "cleaned.to_csv('Data/cleaned_data.csv', index=False)\n",
        "cleaned.shape\n"
      ]
    }
  ],
  "metadata": {
    "language_info": {
      "name": "python"
    }
  },
  "nbformat": 4,
  "nbformat_minor": 2
}
