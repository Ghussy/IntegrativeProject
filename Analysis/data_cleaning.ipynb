{
  "cells": [
    {
      "cell_type": "markdown",
      "metadata": {},
      "source": [
        "# Data Cleaning & Exploration\n",
        "\n",
        "Objectives:\n",
        "- Inspect schema and missingness\n",
        "- Handle nulls/outliers\n",
        "- Save cleaned dataset to `Data/cleaned_data.csv`\n"
      ]
    },
    {
      "cell_type": "code",
      "execution_count": 68,
      "metadata": {},
      "outputs": [
        {
          "data": {
            "text/html": [
              "<div>\n",
              "<style scoped>\n",
              "    .dataframe tbody tr th:only-of-type {\n",
              "        vertical-align: middle;\n",
              "    }\n",
              "\n",
              "    .dataframe tbody tr th {\n",
              "        vertical-align: top;\n",
              "    }\n",
              "\n",
              "    .dataframe thead th {\n",
              "        text-align: right;\n",
              "    }\n",
              "</style>\n",
              "<table border=\"1\" class=\"dataframe\">\n",
              "  <thead>\n",
              "    <tr style=\"text-align: right;\">\n",
              "      <th></th>\n",
              "      <th>StudentID</th>\n",
              "      <th>Age</th>\n",
              "      <th>Gender</th>\n",
              "      <th>Ethnicity</th>\n",
              "      <th>ParentalEducation</th>\n",
              "      <th>StudyTimeWeekly</th>\n",
              "      <th>Absences</th>\n",
              "      <th>Tutoring</th>\n",
              "      <th>ParentalSupport</th>\n",
              "      <th>Extracurricular</th>\n",
              "      <th>Sports</th>\n",
              "      <th>Music</th>\n",
              "      <th>Volunteering</th>\n",
              "      <th>GPA</th>\n",
              "      <th>GradeClass</th>\n",
              "    </tr>\n",
              "  </thead>\n",
              "  <tbody>\n",
              "    <tr>\n",
              "      <th>0</th>\n",
              "      <td>1001</td>\n",
              "      <td>17</td>\n",
              "      <td>1</td>\n",
              "      <td>Caucasian</td>\n",
              "      <td>Some College</td>\n",
              "      <td>19.833723</td>\n",
              "      <td>7.0</td>\n",
              "      <td>1</td>\n",
              "      <td>Moderate</td>\n",
              "      <td>0</td>\n",
              "      <td>0</td>\n",
              "      <td>1</td>\n",
              "      <td>NaN</td>\n",
              "      <td>2.929196</td>\n",
              "      <td>2.0</td>\n",
              "    </tr>\n",
              "    <tr>\n",
              "      <th>1</th>\n",
              "      <td>1002</td>\n",
              "      <td>18</td>\n",
              "      <td>0</td>\n",
              "      <td>Caucasian</td>\n",
              "      <td>High School</td>\n",
              "      <td>15.408756</td>\n",
              "      <td>0.0</td>\n",
              "      <td>0</td>\n",
              "      <td>Low</td>\n",
              "      <td>0</td>\n",
              "      <td>0</td>\n",
              "      <td>0</td>\n",
              "      <td>NaN</td>\n",
              "      <td>3.042915</td>\n",
              "      <td>1.0</td>\n",
              "    </tr>\n",
              "    <tr>\n",
              "      <th>2</th>\n",
              "      <td>1003</td>\n",
              "      <td>15</td>\n",
              "      <td>0</td>\n",
              "      <td>Asian</td>\n",
              "      <td>Bachelor's</td>\n",
              "      <td>4.210570</td>\n",
              "      <td>26.0</td>\n",
              "      <td>0</td>\n",
              "      <td>Moderate</td>\n",
              "      <td>0</td>\n",
              "      <td>0</td>\n",
              "      <td>0</td>\n",
              "      <td>NaN</td>\n",
              "      <td>0.112602</td>\n",
              "      <td>4.0</td>\n",
              "    </tr>\n",
              "    <tr>\n",
              "      <th>3</th>\n",
              "      <td>1004</td>\n",
              "      <td>17</td>\n",
              "      <td>1</td>\n",
              "      <td>Caucasian</td>\n",
              "      <td>Bachelor's</td>\n",
              "      <td>10.028829</td>\n",
              "      <td>14.0</td>\n",
              "      <td>0</td>\n",
              "      <td>High</td>\n",
              "      <td>1</td>\n",
              "      <td>0</td>\n",
              "      <td>0</td>\n",
              "      <td>NaN</td>\n",
              "      <td>2.054218</td>\n",
              "      <td>3.0</td>\n",
              "    </tr>\n",
              "    <tr>\n",
              "      <th>4</th>\n",
              "      <td>1005</td>\n",
              "      <td>17</td>\n",
              "      <td>1</td>\n",
              "      <td>Caucasian</td>\n",
              "      <td>Some College</td>\n",
              "      <td>4.672495</td>\n",
              "      <td>17.0</td>\n",
              "      <td>1</td>\n",
              "      <td>High</td>\n",
              "      <td>0</td>\n",
              "      <td>0</td>\n",
              "      <td>0</td>\n",
              "      <td>NaN</td>\n",
              "      <td>1.288061</td>\n",
              "      <td>4.0</td>\n",
              "    </tr>\n",
              "  </tbody>\n",
              "</table>\n",
              "</div>"
            ],
            "text/plain": [
              "   StudentID  Age  Gender  Ethnicity ParentalEducation  StudyTimeWeekly  \\\n",
              "0       1001   17       1  Caucasian      Some College        19.833723   \n",
              "1       1002   18       0  Caucasian       High School        15.408756   \n",
              "2       1003   15       0      Asian        Bachelor's         4.210570   \n",
              "3       1004   17       1  Caucasian        Bachelor's        10.028829   \n",
              "4       1005   17       1  Caucasian      Some College         4.672495   \n",
              "\n",
              "   Absences  Tutoring ParentalSupport  Extracurricular  Sports  Music  \\\n",
              "0       7.0         1        Moderate                0       0      1   \n",
              "1       0.0         0             Low                0       0      0   \n",
              "2      26.0         0        Moderate                0       0      0   \n",
              "3      14.0         0            High                1       0      0   \n",
              "4      17.0         1            High                0       0      0   \n",
              "\n",
              "   Volunteering       GPA  GradeClass  \n",
              "0           NaN  2.929196         2.0  \n",
              "1           NaN  3.042915         1.0  \n",
              "2           NaN  0.112602         4.0  \n",
              "3           NaN  2.054218         3.0  \n",
              "4           NaN  1.288061         4.0  "
            ]
          },
          "execution_count": 68,
          "metadata": {},
          "output_type": "execute_result"
        }
      ],
      "source": [
        "import pandas as pd\n",
        "import numpy as np\n",
        "import matplotlib.pyplot as plt\n",
        "import seaborn as sns\n",
        "\n",
        "pd.set_option('display.max_columns', None)\n",
        "DATA_PATH = '../Data/student_data.csv'\n",
        "DF = pd.read_csv(DATA_PATH)\n",
        "DF.head()\n"
      ]
    },
    {
      "cell_type": "code",
      "execution_count": 69,
      "metadata": {},
      "outputs": [
        {
          "name": "stdout",
          "output_type": "stream",
          "text": [
            "<class 'pandas.core.frame.DataFrame'>\n",
            "RangeIndex: 2392 entries, 0 to 2391\n",
            "Data columns (total 15 columns):\n",
            " #   Column             Non-Null Count  Dtype  \n",
            "---  ------             --------------  -----  \n",
            " 0   StudentID          2392 non-null   int64  \n",
            " 1   Age                2392 non-null   int64  \n",
            " 2   Gender             2392 non-null   int64  \n",
            " 3   Ethnicity          2392 non-null   object \n",
            " 4   ParentalEducation  2149 non-null   object \n",
            " 5   StudyTimeWeekly    2345 non-null   float64\n",
            " 6   Absences           2321 non-null   float64\n",
            " 7   Tutoring           2392 non-null   int64  \n",
            " 8   ParentalSupport    2180 non-null   object \n",
            " 9   Extracurricular    2392 non-null   int64  \n",
            " 10  Sports             2392 non-null   int64  \n",
            " 11  Music              2392 non-null   int64  \n",
            " 12  Volunteering       72 non-null     float64\n",
            " 13  GPA                2392 non-null   float64\n",
            " 14  GradeClass         2392 non-null   float64\n",
            "dtypes: float64(5), int64(7), object(3)\n",
            "memory usage: 280.4+ KB\n"
          ]
        },
        {
          "data": {
            "text/plain": [
              "StudentID             0.000000\n",
              "Age                   0.000000\n",
              "Gender                0.000000\n",
              "Ethnicity             0.000000\n",
              "ParentalEducation    10.158863\n",
              "StudyTimeWeekly       1.964883\n",
              "Absences              2.968227\n",
              "Tutoring              0.000000\n",
              "ParentalSupport       8.862876\n",
              "Extracurricular       0.000000\n",
              "Sports                0.000000\n",
              "Music                 0.000000\n",
              "Volunteering         96.989967\n",
              "GPA                   0.000000\n",
              "GradeClass            0.000000\n",
              "dtype: float64"
            ]
          },
          "execution_count": 69,
          "metadata": {},
          "output_type": "execute_result"
        }
      ],
      "source": [
        "# Basic info and missingness\n",
        "DF.info()\n",
        "DF.isna().sum().sort_values(ascending=False)\n",
        "\n",
        "# show percentage of nulls per column\n",
        "DF.isna().sum() / len(DF) * 100\n"
      ]
    },
    {
      "cell_type": "code",
      "execution_count": 70,
      "metadata": {},
      "outputs": [
        {
          "name": "stdout",
          "output_type": "stream",
          "text": [
            "['Caucasian' 'Asian' 'African American' 'Other']\n",
            "['Some College' 'High School' \"Bachelor's\" 'Higher' nan]\n",
            "['Moderate' 'Low' 'High' 'Very High' nan]\n"
          ]
        }
      ],
      "source": [
        "## We are dropping volunteering column due to high null values\n",
        "DF = DF.drop(columns=['Volunteering'])\n",
        "\n",
        "# check unique categories in Ethnicity, ParentalEducation, and ParentalSupport\n",
        "print(DF['Ethnicity'].unique())\n",
        "print(DF['ParentalEducation'].unique())\n",
        "print(DF['ParentalSupport'].unique())\n"
      ]
    },
    {
      "cell_type": "code",
      "execution_count": 71,
      "metadata": {},
      "outputs": [
        {
          "name": "stdout",
          "output_type": "stream",
          "text": [
            "ParentalEducation categories: ParentalEducation\n",
            "Some College    885\n",
            "High School     696\n",
            "Bachelor's      353\n",
            "unknown         228\n",
            "Higher          113\n",
            "Name: count, dtype: int64\n",
            "ParentalSupport categories: ParentalSupport\n",
            "Moderate     703\n",
            "High         664\n",
            "Low          467\n",
            "Very High    237\n",
            "unknown      204\n",
            "Name: count, dtype: int64\n"
          ]
        }
      ],
      "source": [
        "# We are dropping the following rows that are null in the following columns, due to low percentage of nulls\n",
        "# StudyTimeWeekly, Absences\n",
        "\n",
        "DF = DF[DF['StudyTimeWeekly'].notna()]\n",
        "DF = DF[DF['Absences'].notna()]\n",
        "\n",
        "# we are changing null values in ParentalEducation to 'unknown'\n",
        "DF['ParentalEducation'] = DF['ParentalEducation'].fillna('unknown')\n",
        "DF['ParentalSupport'] = DF['ParentalSupport'].fillna('unknown')\n",
        "\n",
        "# check current categories after filling nulls\n",
        "print(\"ParentalEducation categories:\", DF['ParentalEducation'].value_counts())\n",
        "print(\"ParentalSupport categories:\", DF['ParentalSupport'].value_counts())\n"
      ]
    },
    {
      "cell_type": "markdown",
      "metadata": {},
      "source": [
        "## Data Validation"
      ]
    },
    {
      "cell_type": "code",
      "execution_count": 72,
      "metadata": {},
      "outputs": [
        {
          "name": "stdout",
          "output_type": "stream",
          "text": [
            "Age outliers: Empty DataFrame\n",
            "Columns: [StudentID, Age, Gender, Ethnicity, ParentalEducation, StudyTimeWeekly, Absences, Tutoring, ParentalSupport, Extracurricular, Sports, Music, GPA, GradeClass]\n",
            "Index: []\n",
            "GPA outliers: 0 rows\n",
            "StudyTimeWeekly outliers: 0 rows\n",
            "Absences outliers: 0 rows\n"
          ]
        }
      ],
      "source": [
        "# Age Validation\n",
        "age_outliers = DF[DF['Age'] < 15] | DF[DF['Age'] > 18]\n",
        "print(f\"Age outliers: {age_outliers}\")\n",
        "\n",
        "# GPA validation\n",
        "gpa_outliers = DF[(DF['GPA'] < 0.0) | (DF['GPA'] > 4.0)]\n",
        "print(f\"GPA outliers: {len(gpa_outliers)} rows\")\n",
        "\n",
        "# StudyTimeWeekly validation\n",
        "study_outliers = DF[DF['StudyTimeWeekly'] <= 0]\n",
        "print(f\"StudyTimeWeekly outliers: {len(study_outliers)} rows\")\n",
        "\n",
        "# Absences validation\n",
        "absences_outliers = DF[DF['Absences'] < 0]\n",
        "print(f\"Absences outliers: {len(absences_outliers)} rows\")"
      ]
    },
    {
      "cell_type": "code",
      "execution_count": 73,
      "metadata": {},
      "outputs": [],
      "source": [
        "#save cleaned data\n",
        "DF.to_csv('../Data/cleaned_data.csv', index=False)"
      ]
    }
  ],
  "metadata": {
    "kernelspec": {
      "display_name": "jupyter_ds",
      "language": "python",
      "name": "python3"
    },
    "language_info": {
      "codemirror_mode": {
        "name": "ipython",
        "version": 3
      },
      "file_extension": ".py",
      "mimetype": "text/x-python",
      "name": "python",
      "nbconvert_exporter": "python",
      "pygments_lexer": "ipython3",
      "version": "3.11.11"
    }
  },
  "nbformat": 4,
  "nbformat_minor": 2
}
